{
 "cells": [
  {
   "cell_type": "markdown",
   "id": "informational-eleven",
   "metadata": {
    "papermill": {
     "duration": 0.013821,
     "end_time": "2021-04-06T14:51:21.547220",
     "exception": false,
     "start_time": "2021-04-06T14:51:21.533399",
     "status": "completed"
    },
    "tags": []
   },
   "source": [
    "**This notebook is an exercise in the [Data Cleaning](https://www.kaggle.com/learn/data-cleaning) course.  You can reference the tutorial at [this link](https://www.kaggle.com/alexisbcook/character-encodings).**\n",
    "\n",
    "---\n"
   ]
  },
  {
   "cell_type": "markdown",
   "id": "studied-particle",
   "metadata": {
    "papermill": {
     "duration": 0.012326,
     "end_time": "2021-04-06T14:51:21.572315",
     "exception": false,
     "start_time": "2021-04-06T14:51:21.559989",
     "status": "completed"
    },
    "tags": []
   },
   "source": [
    "In this exercise, you'll apply what you learned in the **Character encodings** tutorial.\n",
    "\n",
    "# Setup\n",
    "\n",
    "The questions below will give you feedback on your work. Run the following cell to set up the feedback system."
   ]
  },
  {
   "cell_type": "code",
   "execution_count": 1,
   "id": "minimal-wisdom",
   "metadata": {
    "execution": {
     "iopub.execute_input": "2021-04-06T14:51:21.603686Z",
     "iopub.status.busy": "2021-04-06T14:51:21.602550Z",
     "iopub.status.idle": "2021-04-06T14:51:21.718846Z",
     "shell.execute_reply": "2021-04-06T14:51:21.717901Z"
    },
    "papermill": {
     "duration": 0.133248,
     "end_time": "2021-04-06T14:51:21.719083",
     "exception": false,
     "start_time": "2021-04-06T14:51:21.585835",
     "status": "completed"
    },
    "tags": []
   },
   "outputs": [
    {
     "name": "stdout",
     "output_type": "stream",
     "text": [
      "Setup Complete\n"
     ]
    }
   ],
   "source": [
    "from learntools.core import binder\n",
    "binder.bind(globals())\n",
    "from learntools.data_cleaning.ex4 import *\n",
    "print(\"Setup Complete\")"
   ]
  },
  {
   "cell_type": "markdown",
   "id": "secret-possible",
   "metadata": {
    "papermill": {
     "duration": 0.013712,
     "end_time": "2021-04-06T14:51:21.747696",
     "exception": false,
     "start_time": "2021-04-06T14:51:21.733984",
     "status": "completed"
    },
    "tags": []
   },
   "source": [
    "# Get our environment set up\n",
    "\n",
    "The first thing we'll need to do is load in the libraries we'll be using."
   ]
  },
  {
   "cell_type": "code",
   "execution_count": 2,
   "id": "boxed-tours",
   "metadata": {
    "execution": {
     "iopub.execute_input": "2021-04-06T14:51:21.780397Z",
     "iopub.status.busy": "2021-04-06T14:51:21.779747Z",
     "iopub.status.idle": "2021-04-06T14:51:21.783689Z",
     "shell.execute_reply": "2021-04-06T14:51:21.783000Z"
    },
    "papermill": {
     "duration": 0.02221,
     "end_time": "2021-04-06T14:51:21.783843",
     "exception": false,
     "start_time": "2021-04-06T14:51:21.761633",
     "status": "completed"
    },
    "tags": []
   },
   "outputs": [],
   "source": [
    "# modules we'll use\n",
    "import pandas as pd\n",
    "import numpy as np\n",
    "\n",
    "# helpful character encoding module\n",
    "import chardet\n",
    "\n",
    "# set seed for reproducibility\n",
    "np.random.seed(0)"
   ]
  },
  {
   "cell_type": "markdown",
   "id": "wound-harmony",
   "metadata": {
    "papermill": {
     "duration": 0.013225,
     "end_time": "2021-04-06T14:51:21.810178",
     "exception": false,
     "start_time": "2021-04-06T14:51:21.796953",
     "status": "completed"
    },
    "tags": []
   },
   "source": [
    "# 1) What are encodings?\n",
    "\n",
    "You're working with a dataset composed of bytes.  Run the code cell below to print a sample entry."
   ]
  },
  {
   "cell_type": "code",
   "execution_count": 3,
   "id": "professional-pacific",
   "metadata": {
    "execution": {
     "iopub.execute_input": "2021-04-06T14:51:21.839834Z",
     "iopub.status.busy": "2021-04-06T14:51:21.839128Z",
     "iopub.status.idle": "2021-04-06T14:51:21.845621Z",
     "shell.execute_reply": "2021-04-06T14:51:21.846117Z"
    },
    "papermill": {
     "duration": 0.023133,
     "end_time": "2021-04-06T14:51:21.846297",
     "exception": false,
     "start_time": "2021-04-06T14:51:21.823164",
     "status": "completed"
    },
    "tags": []
   },
   "outputs": [
    {
     "name": "stdout",
     "output_type": "stream",
     "text": [
      "b'\\xa7A\\xa6n'\n",
      "data type: <class 'bytes'>\n"
     ]
    }
   ],
   "source": [
    "sample_entry = b'\\xa7A\\xa6n'\n",
    "print(sample_entry)\n",
    "print('data type:', type(sample_entry))"
   ]
  },
  {
   "cell_type": "markdown",
   "id": "laden-wrist",
   "metadata": {
    "papermill": {
     "duration": 0.01315,
     "end_time": "2021-04-06T14:51:21.874707",
     "exception": false,
     "start_time": "2021-04-06T14:51:21.861557",
     "status": "completed"
    },
    "tags": []
   },
   "source": [
    "You notice that it doesn't use the standard UTF-8 encoding. \n",
    "\n",
    "Use the next code cell to create a variable `new_entry` that changes the encoding from `\"big5-tw\"` to `\"utf-8\"`.  `new_entry` should have the bytes datatype."
   ]
  },
  {
   "cell_type": "code",
   "execution_count": 4,
   "id": "eastern-output",
   "metadata": {
    "execution": {
     "iopub.execute_input": "2021-04-06T14:51:21.909215Z",
     "iopub.status.busy": "2021-04-06T14:51:21.906379Z",
     "iopub.status.idle": "2021-04-06T14:51:21.917467Z",
     "shell.execute_reply": "2021-04-06T14:51:21.916875Z"
    },
    "papermill": {
     "duration": 0.02951,
     "end_time": "2021-04-06T14:51:21.917644",
     "exception": false,
     "start_time": "2021-04-06T14:51:21.888134",
     "status": "completed"
    },
    "tags": []
   },
   "outputs": [
    {
     "data": {
      "application/javascript": [
       "parent.postMessage({\"jupyterEvent\": \"custom.exercise_interaction\", \"data\": {\"outcomeType\": 1, \"valueTowardsCompletion\": 0.3333333333333333, \"interactionType\": 1, \"questionType\": 1, \"questionId\": \"1_EncodingsIntro\", \"learnToolsVersion\": \"0.3.4\", \"failureMessage\": \"\", \"exceptionClass\": \"\", \"trace\": \"\"}}, \"*\")"
      ],
      "text/plain": [
       "<IPython.core.display.Javascript object>"
      ]
     },
     "metadata": {},
     "output_type": "display_data"
    },
    {
     "data": {
      "text/markdown": [
       "<span style=\"color:#33cc33\">Correct</span>"
      ],
      "text/plain": [
       "Correct"
      ]
     },
     "metadata": {},
     "output_type": "display_data"
    }
   ],
   "source": [
    "before = sample_entry.decode(\"big5-tw\")\n",
    "new_entry = before.encode()\n",
    "\n",
    "# Check your answer\n",
    "q1.check()"
   ]
  },
  {
   "cell_type": "code",
   "execution_count": 5,
   "id": "serious-nature",
   "metadata": {
    "execution": {
     "iopub.execute_input": "2021-04-06T14:51:21.953558Z",
     "iopub.status.busy": "2021-04-06T14:51:21.952520Z",
     "iopub.status.idle": "2021-04-06T14:51:21.958765Z",
     "shell.execute_reply": "2021-04-06T14:51:21.958064Z"
    },
    "papermill": {
     "duration": 0.026224,
     "end_time": "2021-04-06T14:51:21.958921",
     "exception": false,
     "start_time": "2021-04-06T14:51:21.932697",
     "status": "completed"
    },
    "tags": []
   },
   "outputs": [],
   "source": [
    "# Lines below will give you a hint or solution code\n",
    "#q1.hint()\n",
    "#q1.solution()"
   ]
  },
  {
   "cell_type": "markdown",
   "id": "irish-flavor",
   "metadata": {
    "papermill": {
     "duration": 0.014507,
     "end_time": "2021-04-06T14:51:21.988494",
     "exception": false,
     "start_time": "2021-04-06T14:51:21.973987",
     "status": "completed"
    },
    "tags": []
   },
   "source": [
    "# 2) Reading in files with encoding problems\n",
    "\n",
    "Use the code cell below to read in this file at path `\"../input/fatal-police-shootings-in-the-us/PoliceKillingsUS.csv\"`.  \n",
    "\n",
    "Figure out what the correct encoding should be and read in the file to a DataFrame `police_killings`."
   ]
  },
  {
   "cell_type": "code",
   "execution_count": 6,
   "id": "divine-cassette",
   "metadata": {
    "execution": {
     "iopub.execute_input": "2021-04-06T14:51:22.026022Z",
     "iopub.status.busy": "2021-04-06T14:51:22.024957Z",
     "iopub.status.idle": "2021-04-06T14:51:22.052081Z",
     "shell.execute_reply": "2021-04-06T14:51:22.051204Z"
    },
    "papermill": {
     "duration": 0.048968,
     "end_time": "2021-04-06T14:51:22.052239",
     "exception": false,
     "start_time": "2021-04-06T14:51:22.003271",
     "status": "completed"
    },
    "tags": []
   },
   "outputs": [
    {
     "data": {
      "application/javascript": [
       "parent.postMessage({\"jupyterEvent\": \"custom.exercise_interaction\", \"data\": {\"outcomeType\": 1, \"valueTowardsCompletion\": 0.3333333333333333, \"interactionType\": 1, \"questionType\": 1, \"questionId\": \"2_ReadIn\", \"learnToolsVersion\": \"0.3.4\", \"failureMessage\": \"\", \"exceptionClass\": \"\", \"trace\": \"\"}}, \"*\")"
      ],
      "text/plain": [
       "<IPython.core.display.Javascript object>"
      ]
     },
     "metadata": {},
     "output_type": "display_data"
    },
    {
     "data": {
      "text/markdown": [
       "<span style=\"color:#33cc33\">Correct</span>"
      ],
      "text/plain": [
       "Correct"
      ]
     },
     "metadata": {},
     "output_type": "display_data"
    }
   ],
   "source": [
    "# TODO: Load in the DataFrame correctly.\n",
    "police_killings = pd.read_csv(\"../input/fatal-police-shootings-in-the-us/PoliceKillingsUS.csv\", encoding='Windows-1252')\n",
    "\n",
    "\n",
    "# Check your answer\n",
    "q2.check()"
   ]
  },
  {
   "cell_type": "markdown",
   "id": "assigned-advocacy",
   "metadata": {
    "papermill": {
     "duration": 0.016656,
     "end_time": "2021-04-06T14:51:22.085132",
     "exception": false,
     "start_time": "2021-04-06T14:51:22.068476",
     "status": "completed"
    },
    "tags": []
   },
   "source": [
    "Feel free to use any additional code cells for supplemental work.  To get credit for finishing this question, you'll need to run `q2.check()` and get a result of **Correct**."
   ]
  },
  {
   "cell_type": "code",
   "execution_count": 7,
   "id": "particular-adrian",
   "metadata": {
    "execution": {
     "iopub.execute_input": "2021-04-06T14:51:22.123299Z",
     "iopub.status.busy": "2021-04-06T14:51:22.122602Z",
     "iopub.status.idle": "2021-04-06T14:51:22.125798Z",
     "shell.execute_reply": "2021-04-06T14:51:22.125177Z"
    },
    "papermill": {
     "duration": 0.024062,
     "end_time": "2021-04-06T14:51:22.125944",
     "exception": false,
     "start_time": "2021-04-06T14:51:22.101882",
     "status": "completed"
    },
    "tags": []
   },
   "outputs": [],
   "source": [
    "# (Optional) Use this code cell for any additional work."
   ]
  },
  {
   "cell_type": "code",
   "execution_count": 8,
   "id": "tracked-reconstruction",
   "metadata": {
    "execution": {
     "iopub.execute_input": "2021-04-06T14:51:22.164239Z",
     "iopub.status.busy": "2021-04-06T14:51:22.163335Z",
     "iopub.status.idle": "2021-04-06T14:51:22.165669Z",
     "shell.execute_reply": "2021-04-06T14:51:22.166252Z"
    },
    "papermill": {
     "duration": 0.023427,
     "end_time": "2021-04-06T14:51:22.166420",
     "exception": false,
     "start_time": "2021-04-06T14:51:22.142993",
     "status": "completed"
    },
    "tags": []
   },
   "outputs": [],
   "source": [
    "# Lines below will give you a hint or solution code\n",
    "#q2.hint()\n",
    "#q2.solution()"
   ]
  },
  {
   "cell_type": "markdown",
   "id": "reserved-council",
   "metadata": {
    "papermill": {
     "duration": 0.015809,
     "end_time": "2021-04-06T14:51:22.198499",
     "exception": false,
     "start_time": "2021-04-06T14:51:22.182690",
     "status": "completed"
    },
    "tags": []
   },
   "source": [
    "# 3) Saving your files with UTF-8 encoding\n",
    "\n",
    "Save a version of the police killings dataset to CSV with UTF-8 encoding.  Your answer will be marked correct after saving this file.  \n",
    "\n",
    "Note: When using the `to_csv()` method, supply only the name of the file (e.g., `\"my_file.csv\"`).  This saves the file at the filepath `\"/kaggle/working/my_file.csv\"`."
   ]
  },
  {
   "cell_type": "code",
   "execution_count": 9,
   "id": "suitable-overhead",
   "metadata": {
    "execution": {
     "iopub.execute_input": "2021-04-06T14:51:22.236633Z",
     "iopub.status.busy": "2021-04-06T14:51:22.235938Z",
     "iopub.status.idle": "2021-04-06T14:51:22.281954Z",
     "shell.execute_reply": "2021-04-06T14:51:22.281285Z"
    },
    "papermill": {
     "duration": 0.067434,
     "end_time": "2021-04-06T14:51:22.282106",
     "exception": false,
     "start_time": "2021-04-06T14:51:22.214672",
     "status": "completed"
    },
    "tags": []
   },
   "outputs": [
    {
     "data": {
      "application/javascript": [
       "parent.postMessage({\"jupyterEvent\": \"custom.exercise_interaction\", \"data\": {\"outcomeType\": 1, \"valueTowardsCompletion\": 0.3333333333333333, \"interactionType\": 1, \"questionType\": 2, \"questionId\": \"3_SaveCSV\", \"learnToolsVersion\": \"0.3.4\", \"failureMessage\": \"\", \"exceptionClass\": \"\", \"trace\": \"\"}}, \"*\")"
      ],
      "text/plain": [
       "<IPython.core.display.Javascript object>"
      ]
     },
     "metadata": {},
     "output_type": "display_data"
    },
    {
     "data": {
      "text/markdown": [
       "<span style=\"color:#33cc33\">Correct</span>"
      ],
      "text/plain": [
       "Correct"
      ]
     },
     "metadata": {},
     "output_type": "display_data"
    }
   ],
   "source": [
    "# TODO: Save the police killings dataset to CSV\n",
    "\n",
    "police_killings.to_csv(\"my_file.csv\")\n",
    "\n",
    "# Check your answer\n",
    "q3.check()"
   ]
  },
  {
   "cell_type": "code",
   "execution_count": 10,
   "id": "revolutionary-holder",
   "metadata": {
    "execution": {
     "iopub.execute_input": "2021-04-06T14:51:22.322441Z",
     "iopub.status.busy": "2021-04-06T14:51:22.321715Z",
     "iopub.status.idle": "2021-04-06T14:51:22.325280Z",
     "shell.execute_reply": "2021-04-06T14:51:22.324609Z"
    },
    "papermill": {
     "duration": 0.025761,
     "end_time": "2021-04-06T14:51:22.325429",
     "exception": false,
     "start_time": "2021-04-06T14:51:22.299668",
     "status": "completed"
    },
    "tags": []
   },
   "outputs": [],
   "source": [
    "# Lines below will give you a hint or solution code\n",
    "#q3.hint()\n",
    "#q3.solution()"
   ]
  },
  {
   "cell_type": "markdown",
   "id": "written-dependence",
   "metadata": {
    "papermill": {
     "duration": 0.017082,
     "end_time": "2021-04-06T14:51:22.360005",
     "exception": false,
     "start_time": "2021-04-06T14:51:22.342923",
     "status": "completed"
    },
    "tags": []
   },
   "source": [
    "# (Optional) More practice\n",
    "\n",
    "Check out [this dataset of files in different character encodings](https://www.kaggle.com/rtatman/character-encoding-examples). Can you read in all the files with their original encodings and them save them out as UTF-8 files?\n",
    "\n",
    "If you have a file that's in UTF-8 but has just a couple of weird-looking characters in it, you can try out the [ftfy module](https://ftfy.readthedocs.io/en/latest/#) and see if it helps. \n",
    "\n",
    "# Keep going\n",
    "\n",
    "In the final lesson, learn how to [**clean up inconsistent text entries**](https://www.kaggle.com/alexisbcook/inconsistent-data-entry) in your dataset."
   ]
  },
  {
   "cell_type": "markdown",
   "id": "complimentary-drinking",
   "metadata": {
    "papermill": {
     "duration": 0.01726,
     "end_time": "2021-04-06T14:51:22.394727",
     "exception": false,
     "start_time": "2021-04-06T14:51:22.377467",
     "status": "completed"
    },
    "tags": []
   },
   "source": [
    "---\n",
    "\n",
    "\n",
    "\n",
    "\n",
    "*Have questions or comments? Visit the [Learn Discussion forum](https://www.kaggle.com/learn-forum/172650) to chat with other Learners.*"
   ]
  }
 ],
 "metadata": {
  "kernelspec": {
   "display_name": "Python 3",
   "language": "python",
   "name": "python3"
  },
  "language_info": {
   "codemirror_mode": {
    "name": "ipython",
    "version": 3
   },
   "file_extension": ".py",
   "mimetype": "text/x-python",
   "name": "python",
   "nbconvert_exporter": "python",
   "pygments_lexer": "ipython3",
   "version": "3.7.9"
  },
  "papermill": {
   "default_parameters": {},
   "duration": 8.440596,
   "end_time": "2021-04-06T14:51:23.025644",
   "environment_variables": {},
   "exception": null,
   "input_path": "__notebook__.ipynb",
   "output_path": "__notebook__.ipynb",
   "parameters": {},
   "start_time": "2021-04-06T14:51:14.585048",
   "version": "2.3.2"
  }
 },
 "nbformat": 4,
 "nbformat_minor": 5
}
